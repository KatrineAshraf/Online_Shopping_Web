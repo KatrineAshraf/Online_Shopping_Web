{
 "cells": [
  {
   "cell_type": "markdown",
   "metadata": {},
   "source": [
    "# IMPORTS"
   ]
  },
  {
   "cell_type": "code",
   "execution_count": 42,
   "metadata": {},
   "outputs": [],
   "source": [
    "from zipfile import ZipFile\n",
    "import os\n",
    "import pandas as pd\n",
    "from langdetect import detect, DetectorFactory\n",
    "import numpy as np\n",
    "import matplotlib.pyplot as plt\n",
    "import re"
   ]
  },
  {
   "cell_type": "markdown",
   "metadata": {},
   "source": [
    "# GOODREADS DATASET"
   ]
  },
  {
   "cell_type": "markdown",
   "metadata": {},
   "source": [
    "## DATA INSTALL"
   ]
  },
  {
   "cell_type": "code",
   "execution_count": 40,
   "metadata": {},
   "outputs": [
    {
     "name": "stdout",
     "output_type": "stream",
     "text": [
      "Dataset URL: https://www.kaggle.com/datasets/dk123891/books-dataset-goodreadsmay-2024\n",
      "License(s): MIT\n",
      "Downloading books-dataset-goodreadsmay-2024.zip to d:\\FCDS\\Online_Shopping_Web\n",
      "\n"
     ]
    },
    {
     "name": "stderr",
     "output_type": "stream",
     "text": [
      "\n",
      "  0%|          | 0.00/68.9M [00:00<?, ?B/s]\n",
      "  1%|▏         | 1.00M/68.9M [00:00<01:04, 1.10MB/s]\n",
      "  3%|▎         | 2.00M/68.9M [00:01<01:03, 1.11MB/s]\n",
      "  4%|▍         | 3.00M/68.9M [00:02<01:03, 1.09MB/s]\n",
      "  6%|▌         | 4.00M/68.9M [00:03<00:50, 1.34MB/s]\n",
      "  7%|▋         | 5.00M/68.9M [00:04<00:52, 1.26MB/s]\n",
      "  9%|▊         | 6.00M/68.9M [00:06<01:14, 886kB/s] \n",
      " 10%|█         | 7.00M/68.9M [00:06<01:04, 1.01MB/s]\n",
      " 12%|█▏        | 8.00M/68.9M [00:07<01:03, 1.01MB/s]\n",
      " 13%|█▎        | 9.00M/68.9M [00:10<01:24, 742kB/s] \n",
      " 15%|█▍        | 10.0M/68.9M [00:12<01:32, 668kB/s]\n",
      " 16%|█▌        | 11.0M/68.9M [00:13<01:24, 716kB/s]\n",
      " 17%|█▋        | 12.0M/68.9M [00:14<01:19, 747kB/s]\n",
      " 19%|█▉        | 13.0M/68.9M [00:15<01:05, 897kB/s]\n",
      " 20%|██        | 14.0M/68.9M [00:15<00:56, 1.01MB/s]\n",
      " 22%|██▏       | 15.0M/68.9M [00:16<00:47, 1.20MB/s]\n",
      " 23%|██▎       | 16.0M/68.9M [00:17<00:43, 1.27MB/s]\n",
      " 25%|██▍       | 17.0M/68.9M [00:17<00:38, 1.41MB/s]\n",
      " 26%|██▌       | 18.0M/68.9M [00:18<00:35, 1.50MB/s]\n",
      " 28%|██▊       | 19.0M/68.9M [00:18<00:30, 1.69MB/s]\n",
      " 29%|██▉       | 20.0M/68.9M [00:19<00:31, 1.63MB/s]\n",
      " 30%|███       | 21.0M/68.9M [00:20<00:33, 1.50MB/s]\n",
      " 32%|███▏      | 22.0M/68.9M [00:21<00:37, 1.32MB/s]\n",
      " 33%|███▎      | 23.0M/68.9M [00:21<00:35, 1.37MB/s]\n",
      " 35%|███▍      | 24.0M/68.9M [00:22<00:35, 1.34MB/s]\n",
      " 36%|███▋      | 25.0M/68.9M [00:23<00:29, 1.54MB/s]\n",
      " 38%|███▊      | 26.0M/68.9M [00:23<00:24, 1.81MB/s]\n",
      " 39%|███▉      | 27.0M/68.9M [00:23<00:20, 2.09MB/s]\n",
      " 41%|████      | 28.0M/68.9M [00:24<00:20, 2.10MB/s]\n",
      " 42%|████▏     | 29.0M/68.9M [00:24<00:16, 2.59MB/s]\n",
      " 44%|████▎     | 30.0M/68.9M [00:24<00:15, 2.60MB/s]\n",
      " 45%|████▍     | 31.0M/68.9M [00:25<00:14, 2.66MB/s]\n",
      " 46%|████▋     | 32.0M/68.9M [00:25<00:13, 2.78MB/s]\n",
      " 48%|████▊     | 33.0M/68.9M [00:26<00:14, 2.64MB/s]\n",
      " 49%|████▉     | 34.0M/68.9M [00:26<00:13, 2.68MB/s]\n",
      " 51%|█████     | 35.0M/68.9M [00:26<00:12, 2.82MB/s]\n",
      " 52%|█████▏    | 36.0M/68.9M [00:27<00:10, 3.30MB/s]\n",
      " 54%|█████▎    | 37.0M/68.9M [00:27<00:09, 3.36MB/s]\n",
      " 55%|█████▌    | 38.0M/68.9M [00:27<00:11, 2.70MB/s]\n",
      " 57%|█████▋    | 39.0M/68.9M [00:28<00:11, 2.82MB/s]\n",
      " 58%|█████▊    | 40.0M/68.9M [00:28<00:09, 3.06MB/s]\n",
      " 60%|█████▉    | 41.0M/68.9M [00:28<00:09, 2.99MB/s]\n",
      " 61%|██████    | 42.0M/68.9M [00:29<00:08, 3.23MB/s]\n",
      " 62%|██████▏   | 43.0M/68.9M [00:29<00:09, 2.82MB/s]\n",
      " 64%|██████▍   | 44.0M/68.9M [00:29<00:08, 3.05MB/s]\n",
      " 65%|██████▌   | 45.0M/68.9M [00:30<00:11, 2.23MB/s]\n",
      " 68%|██████▊   | 47.0M/68.9M [00:31<00:08, 2.82MB/s]\n",
      " 70%|██████▉   | 48.0M/68.9M [00:31<00:07, 2.80MB/s]\n",
      " 71%|███████   | 49.0M/68.9M [00:32<00:08, 2.59MB/s]\n",
      " 73%|███████▎  | 50.0M/68.9M [00:32<00:07, 2.49MB/s]\n",
      " 74%|███████▍  | 51.0M/68.9M [00:32<00:07, 2.55MB/s]\n",
      " 75%|███████▌  | 52.0M/68.9M [00:33<00:07, 2.43MB/s]\n",
      " 77%|███████▋  | 53.0M/68.9M [00:33<00:06, 2.63MB/s]\n",
      " 78%|███████▊  | 54.0M/68.9M [00:34<00:05, 2.75MB/s]\n",
      " 80%|███████▉  | 55.0M/68.9M [00:34<00:04, 3.08MB/s]\n",
      " 81%|████████▏ | 56.0M/68.9M [00:34<00:04, 3.11MB/s]\n",
      " 83%|████████▎ | 57.0M/68.9M [00:35<00:04, 2.83MB/s]\n",
      " 84%|████████▍ | 58.0M/68.9M [00:35<00:04, 2.66MB/s]\n",
      " 86%|████████▌ | 59.0M/68.9M [00:36<00:04, 2.35MB/s]\n",
      " 87%|████████▋ | 60.0M/68.9M [00:36<00:03, 2.46MB/s]\n",
      " 89%|████████▊ | 61.0M/68.9M [00:36<00:03, 2.43MB/s]\n",
      " 90%|████████▉ | 62.0M/68.9M [00:37<00:02, 2.66MB/s]\n",
      " 91%|█████████▏| 63.0M/68.9M [00:37<00:02, 2.52MB/s]\n",
      " 93%|█████████▎| 64.0M/68.9M [00:38<00:01, 2.60MB/s]\n",
      " 94%|█████████▍| 65.0M/68.9M [00:38<00:01, 2.30MB/s]\n",
      " 96%|█████████▌| 66.0M/68.9M [00:38<00:01, 2.52MB/s]\n",
      " 97%|█████████▋| 67.0M/68.9M [00:40<00:01, 1.62MB/s]\n",
      " 99%|█████████▊| 68.0M/68.9M [00:40<00:00, 1.65MB/s]\n",
      "100%|██████████| 68.9M/68.9M [00:41<00:00, 1.55MB/s]\n",
      "100%|██████████| 68.9M/68.9M [00:41<00:00, 1.74MB/s]\n"
     ]
    }
   ],
   "source": [
    "!kaggle datasets download -d dk123891/books-dataset-goodreadsmay-2024"
   ]
  },
  {
   "cell_type": "code",
   "execution_count": 44,
   "metadata": {},
   "outputs": [],
   "source": [
    "with ZipFile('books-dataset-goodreadsmay-2024.zip') as extractor:\n",
    "    extractor.extractall()"
   ]
  },
  {
   "cell_type": "code",
   "execution_count": 45,
   "metadata": {},
   "outputs": [],
   "source": [
    "os.remove('books-dataset-goodreadsmay-2024.zip')"
   ]
  },
  {
   "cell_type": "markdown",
   "metadata": {},
   "source": [
    "## DATA READ AND ANALYSIS"
   ]
  },
  {
   "cell_type": "markdown",
   "metadata": {},
   "source": [
    "### READ"
   ]
  },
  {
   "cell_type": "code",
   "execution_count": 90,
   "metadata": {},
   "outputs": [
    {
     "data": {
      "text/html": [
       "<div>\n",
       "<style scoped>\n",
       "    .dataframe tbody tr th:only-of-type {\n",
       "        vertical-align: middle;\n",
       "    }\n",
       "\n",
       "    .dataframe tbody tr th {\n",
       "        vertical-align: top;\n",
       "    }\n",
       "\n",
       "    .dataframe thead th {\n",
       "        text-align: right;\n",
       "    }\n",
       "</style>\n",
       "<table border=\"1\" class=\"dataframe\">\n",
       "  <thead>\n",
       "    <tr style=\"text-align: right;\">\n",
       "      <th></th>\n",
       "      <th>Unnamed: 0</th>\n",
       "      <th>book_id</th>\n",
       "      <th>cover_image_uri</th>\n",
       "      <th>book_title</th>\n",
       "      <th>book_details</th>\n",
       "      <th>format</th>\n",
       "      <th>publication_info</th>\n",
       "      <th>authorlink</th>\n",
       "      <th>author</th>\n",
       "      <th>num_pages</th>\n",
       "      <th>genres</th>\n",
       "      <th>num_ratings</th>\n",
       "      <th>num_reviews</th>\n",
       "      <th>average_rating</th>\n",
       "      <th>rating_distribution</th>\n",
       "    </tr>\n",
       "  </thead>\n",
       "  <tbody>\n",
       "    <tr>\n",
       "      <th>0</th>\n",
       "      <td>0</td>\n",
       "      <td>1</td>\n",
       "      <td>https://images-na.ssl-images-amazon.com/images...</td>\n",
       "      <td>Harry Potter and the Half-Blood Prince</td>\n",
       "      <td>It is the middle of the summer, but there is a...</td>\n",
       "      <td>['652 pages, Paperback']</td>\n",
       "      <td>['First published July 16, 2005']</td>\n",
       "      <td>https://www.goodreads.com/author/show/1077326....</td>\n",
       "      <td>J.K. Rowling</td>\n",
       "      <td>['652']</td>\n",
       "      <td>['Fantasy', 'Young Adult', 'Fiction', 'Magic',...</td>\n",
       "      <td>3292516</td>\n",
       "      <td>58398</td>\n",
       "      <td>4.58</td>\n",
       "      <td>{'5': '2,244,154', '4': '775,028', '3': '219,8...</td>\n",
       "    </tr>\n",
       "    <tr>\n",
       "      <th>1</th>\n",
       "      <td>1</td>\n",
       "      <td>2</td>\n",
       "      <td>https://images-na.ssl-images-amazon.com/images...</td>\n",
       "      <td>Harry Potter and the Order of the Phoenix</td>\n",
       "      <td>Harry Potter is about to start his fifth year ...</td>\n",
       "      <td>['912 pages, Paperback']</td>\n",
       "      <td>['First published June 21, 2003']</td>\n",
       "      <td>https://www.goodreads.com/author/show/1077326....</td>\n",
       "      <td>J.K. Rowling</td>\n",
       "      <td>['912']</td>\n",
       "      <td>['Young Adult', 'Fiction', 'Magic', 'Childrens...</td>\n",
       "      <td>3401709</td>\n",
       "      <td>64300</td>\n",
       "      <td>4.50</td>\n",
       "      <td>{'5': '2,178,760', '4': '856,178', '3': '293,2...</td>\n",
       "    </tr>\n",
       "    <tr>\n",
       "      <th>2</th>\n",
       "      <td>2</td>\n",
       "      <td>3</td>\n",
       "      <td>https://images-na.ssl-images-amazon.com/images...</td>\n",
       "      <td>Harry Potter and the Sorcerer's Stone</td>\n",
       "      <td>Harry Potter has no idea how famous he is. Tha...</td>\n",
       "      <td>['309 pages, Hardcover']</td>\n",
       "      <td>['First published June 26, 1997']</td>\n",
       "      <td>https://www.goodreads.com/author/show/1077326....</td>\n",
       "      <td>J.K. Rowling</td>\n",
       "      <td>['309']</td>\n",
       "      <td>['Fantasy', 'Fiction', 'Young Adult', 'Magic',...</td>\n",
       "      <td>10116247</td>\n",
       "      <td>163493</td>\n",
       "      <td>4.47</td>\n",
       "      <td>{'5': '6,544,542', '4': '2,348,390', '3': '856...</td>\n",
       "    </tr>\n",
       "    <tr>\n",
       "      <th>3</th>\n",
       "      <td>3</td>\n",
       "      <td>5</td>\n",
       "      <td>https://images-na.ssl-images-amazon.com/images...</td>\n",
       "      <td>Harry Potter and the Prisoner of Azkaban</td>\n",
       "      <td>Harry Potter, along with his best friends, Ron...</td>\n",
       "      <td>['435 pages, Mass Market Paperback']</td>\n",
       "      <td>['First published July 8, 1999']</td>\n",
       "      <td>https://www.goodreads.com/author/show/1077326....</td>\n",
       "      <td>J.K. Rowling</td>\n",
       "      <td>['435']</td>\n",
       "      <td>['Fantasy', 'Fiction', 'Young Adult', 'Magic',...</td>\n",
       "      <td>4215031</td>\n",
       "      <td>84959</td>\n",
       "      <td>4.58</td>\n",
       "      <td>{'5': '2,892,322', '4': '970,190', '3': '287,7...</td>\n",
       "    </tr>\n",
       "    <tr>\n",
       "      <th>4</th>\n",
       "      <td>4</td>\n",
       "      <td>6</td>\n",
       "      <td>https://images-na.ssl-images-amazon.com/images...</td>\n",
       "      <td>Harry Potter and the Goblet of Fire</td>\n",
       "      <td>It is the summer holidays and soon Harry Potte...</td>\n",
       "      <td>['734 pages, Paperback']</td>\n",
       "      <td>['First published July 8, 2000']</td>\n",
       "      <td>https://www.goodreads.com/author/show/1077326....</td>\n",
       "      <td>J.K. Rowling</td>\n",
       "      <td>['734']</td>\n",
       "      <td>['Fantasy', 'Young Adult', 'Fiction', 'Magic',...</td>\n",
       "      <td>3718209</td>\n",
       "      <td>69961</td>\n",
       "      <td>4.57</td>\n",
       "      <td>{'5': '2,500,070', '4': '899,496', '3': '259,7...</td>\n",
       "    </tr>\n",
       "  </tbody>\n",
       "</table>\n",
       "</div>"
      ],
      "text/plain": [
       "   Unnamed: 0  book_id                                    cover_image_uri  \\\n",
       "0           0        1  https://images-na.ssl-images-amazon.com/images...   \n",
       "1           1        2  https://images-na.ssl-images-amazon.com/images...   \n",
       "2           2        3  https://images-na.ssl-images-amazon.com/images...   \n",
       "3           3        5  https://images-na.ssl-images-amazon.com/images...   \n",
       "4           4        6  https://images-na.ssl-images-amazon.com/images...   \n",
       "\n",
       "                                  book_title  \\\n",
       "0     Harry Potter and the Half-Blood Prince   \n",
       "1  Harry Potter and the Order of the Phoenix   \n",
       "2      Harry Potter and the Sorcerer's Stone   \n",
       "3   Harry Potter and the Prisoner of Azkaban   \n",
       "4        Harry Potter and the Goblet of Fire   \n",
       "\n",
       "                                        book_details  \\\n",
       "0  It is the middle of the summer, but there is a...   \n",
       "1  Harry Potter is about to start his fifth year ...   \n",
       "2  Harry Potter has no idea how famous he is. Tha...   \n",
       "3  Harry Potter, along with his best friends, Ron...   \n",
       "4  It is the summer holidays and soon Harry Potte...   \n",
       "\n",
       "                                 format                   publication_info  \\\n",
       "0              ['652 pages, Paperback']  ['First published July 16, 2005']   \n",
       "1              ['912 pages, Paperback']  ['First published June 21, 2003']   \n",
       "2              ['309 pages, Hardcover']  ['First published June 26, 1997']   \n",
       "3  ['435 pages, Mass Market Paperback']   ['First published July 8, 1999']   \n",
       "4              ['734 pages, Paperback']   ['First published July 8, 2000']   \n",
       "\n",
       "                                          authorlink        author num_pages  \\\n",
       "0  https://www.goodreads.com/author/show/1077326....  J.K. Rowling   ['652']   \n",
       "1  https://www.goodreads.com/author/show/1077326....  J.K. Rowling   ['912']   \n",
       "2  https://www.goodreads.com/author/show/1077326....  J.K. Rowling   ['309']   \n",
       "3  https://www.goodreads.com/author/show/1077326....  J.K. Rowling   ['435']   \n",
       "4  https://www.goodreads.com/author/show/1077326....  J.K. Rowling   ['734']   \n",
       "\n",
       "                                              genres  num_ratings  \\\n",
       "0  ['Fantasy', 'Young Adult', 'Fiction', 'Magic',...      3292516   \n",
       "1  ['Young Adult', 'Fiction', 'Magic', 'Childrens...      3401709   \n",
       "2  ['Fantasy', 'Fiction', 'Young Adult', 'Magic',...     10116247   \n",
       "3  ['Fantasy', 'Fiction', 'Young Adult', 'Magic',...      4215031   \n",
       "4  ['Fantasy', 'Young Adult', 'Fiction', 'Magic',...      3718209   \n",
       "\n",
       "   num_reviews  average_rating  \\\n",
       "0        58398            4.58   \n",
       "1        64300            4.50   \n",
       "2       163493            4.47   \n",
       "3        84959            4.58   \n",
       "4        69961            4.57   \n",
       "\n",
       "                                 rating_distribution  \n",
       "0  {'5': '2,244,154', '4': '775,028', '3': '219,8...  \n",
       "1  {'5': '2,178,760', '4': '856,178', '3': '293,2...  \n",
       "2  {'5': '6,544,542', '4': '2,348,390', '3': '856...  \n",
       "3  {'5': '2,892,322', '4': '970,190', '3': '287,7...  \n",
       "4  {'5': '2,500,070', '4': '899,496', '3': '259,7...  "
      ]
     },
     "execution_count": 90,
     "metadata": {},
     "output_type": "execute_result"
    }
   ],
   "source": [
    "data = pd.read_csv('Book_Details.csv')\n",
    "data.head()"
   ]
  },
  {
   "cell_type": "code",
   "execution_count": 92,
   "metadata": {},
   "outputs": [
    {
     "data": {
      "text/html": [
       "<div>\n",
       "<style scoped>\n",
       "    .dataframe tbody tr th:only-of-type {\n",
       "        vertical-align: middle;\n",
       "    }\n",
       "\n",
       "    .dataframe tbody tr th {\n",
       "        vertical-align: top;\n",
       "    }\n",
       "\n",
       "    .dataframe thead th {\n",
       "        text-align: right;\n",
       "    }\n",
       "</style>\n",
       "<table border=\"1\" class=\"dataframe\">\n",
       "  <thead>\n",
       "    <tr style=\"text-align: right;\">\n",
       "      <th></th>\n",
       "      <th>book_title</th>\n",
       "      <th>book_details</th>\n",
       "      <th>cover_image_uri</th>\n",
       "      <th>author</th>\n",
       "      <th>genres</th>\n",
       "    </tr>\n",
       "  </thead>\n",
       "  <tbody>\n",
       "    <tr>\n",
       "      <th>0</th>\n",
       "      <td>Harry Potter and the Half-Blood Prince</td>\n",
       "      <td>It is the middle of the summer, but there is a...</td>\n",
       "      <td>https://images-na.ssl-images-amazon.com/images...</td>\n",
       "      <td>J.K. Rowling</td>\n",
       "      <td>['Fantasy', 'Young Adult', 'Fiction', 'Magic',...</td>\n",
       "    </tr>\n",
       "    <tr>\n",
       "      <th>1</th>\n",
       "      <td>Harry Potter and the Order of the Phoenix</td>\n",
       "      <td>Harry Potter is about to start his fifth year ...</td>\n",
       "      <td>https://images-na.ssl-images-amazon.com/images...</td>\n",
       "      <td>J.K. Rowling</td>\n",
       "      <td>['Young Adult', 'Fiction', 'Magic', 'Childrens...</td>\n",
       "    </tr>\n",
       "    <tr>\n",
       "      <th>2</th>\n",
       "      <td>Harry Potter and the Sorcerer's Stone</td>\n",
       "      <td>Harry Potter has no idea how famous he is. Tha...</td>\n",
       "      <td>https://images-na.ssl-images-amazon.com/images...</td>\n",
       "      <td>J.K. Rowling</td>\n",
       "      <td>['Fantasy', 'Fiction', 'Young Adult', 'Magic',...</td>\n",
       "    </tr>\n",
       "    <tr>\n",
       "      <th>3</th>\n",
       "      <td>Harry Potter and the Prisoner of Azkaban</td>\n",
       "      <td>Harry Potter, along with his best friends, Ron...</td>\n",
       "      <td>https://images-na.ssl-images-amazon.com/images...</td>\n",
       "      <td>J.K. Rowling</td>\n",
       "      <td>['Fantasy', 'Fiction', 'Young Adult', 'Magic',...</td>\n",
       "    </tr>\n",
       "    <tr>\n",
       "      <th>4</th>\n",
       "      <td>Harry Potter and the Goblet of Fire</td>\n",
       "      <td>It is the summer holidays and soon Harry Potte...</td>\n",
       "      <td>https://images-na.ssl-images-amazon.com/images...</td>\n",
       "      <td>J.K. Rowling</td>\n",
       "      <td>['Fantasy', 'Young Adult', 'Fiction', 'Magic',...</td>\n",
       "    </tr>\n",
       "  </tbody>\n",
       "</table>\n",
       "</div>"
      ],
      "text/plain": [
       "                                  book_title  \\\n",
       "0     Harry Potter and the Half-Blood Prince   \n",
       "1  Harry Potter and the Order of the Phoenix   \n",
       "2      Harry Potter and the Sorcerer's Stone   \n",
       "3   Harry Potter and the Prisoner of Azkaban   \n",
       "4        Harry Potter and the Goblet of Fire   \n",
       "\n",
       "                                        book_details  \\\n",
       "0  It is the middle of the summer, but there is a...   \n",
       "1  Harry Potter is about to start his fifth year ...   \n",
       "2  Harry Potter has no idea how famous he is. Tha...   \n",
       "3  Harry Potter, along with his best friends, Ron...   \n",
       "4  It is the summer holidays and soon Harry Potte...   \n",
       "\n",
       "                                     cover_image_uri        author  \\\n",
       "0  https://images-na.ssl-images-amazon.com/images...  J.K. Rowling   \n",
       "1  https://images-na.ssl-images-amazon.com/images...  J.K. Rowling   \n",
       "2  https://images-na.ssl-images-amazon.com/images...  J.K. Rowling   \n",
       "3  https://images-na.ssl-images-amazon.com/images...  J.K. Rowling   \n",
       "4  https://images-na.ssl-images-amazon.com/images...  J.K. Rowling   \n",
       "\n",
       "                                              genres  \n",
       "0  ['Fantasy', 'Young Adult', 'Fiction', 'Magic',...  \n",
       "1  ['Young Adult', 'Fiction', 'Magic', 'Childrens...  \n",
       "2  ['Fantasy', 'Fiction', 'Young Adult', 'Magic',...  \n",
       "3  ['Fantasy', 'Fiction', 'Young Adult', 'Magic',...  \n",
       "4  ['Fantasy', 'Young Adult', 'Fiction', 'Magic',...  "
      ]
     },
     "execution_count": 92,
     "metadata": {},
     "output_type": "execute_result"
    }
   ],
   "source": [
    "data = data[['book_title', 'book_details', 'cover_image_uri', 'author', 'genres']]\n",
    "data.head()"
   ]
  },
  {
   "cell_type": "code",
   "execution_count": 93,
   "metadata": {},
   "outputs": [
    {
     "data": {
      "text/plain": [
       "16225"
      ]
     },
     "execution_count": 93,
     "metadata": {},
     "output_type": "execute_result"
    }
   ],
   "source": [
    "len(data)"
   ]
  },
  {
   "cell_type": "markdown",
   "metadata": {},
   "source": [
    "### DROPPING NULLS"
   ]
  },
  {
   "cell_type": "code",
   "execution_count": 94,
   "metadata": {},
   "outputs": [
    {
     "data": {
      "text/plain": [
       "book_title          0\n",
       "book_details       48\n",
       "cover_image_uri     0\n",
       "author              0\n",
       "genres              0\n",
       "dtype: int64"
      ]
     },
     "execution_count": 94,
     "metadata": {},
     "output_type": "execute_result"
    }
   ],
   "source": [
    "data.isnull().sum()"
   ]
  },
  {
   "cell_type": "code",
   "execution_count": 95,
   "metadata": {},
   "outputs": [
    {
     "name": "stderr",
     "output_type": "stream",
     "text": [
      "C:\\Users\\Katie\\AppData\\Local\\Temp\\ipykernel_22352\\1368182302.py:1: SettingWithCopyWarning: \n",
      "A value is trying to be set on a copy of a slice from a DataFrame\n",
      "\n",
      "See the caveats in the documentation: https://pandas.pydata.org/pandas-docs/stable/user_guide/indexing.html#returning-a-view-versus-a-copy\n",
      "  data.dropna(inplace=True)\n"
     ]
    }
   ],
   "source": [
    "data.dropna(inplace=True)"
   ]
  },
  {
   "cell_type": "code",
   "execution_count": 96,
   "metadata": {},
   "outputs": [
    {
     "data": {
      "text/plain": [
       "book_title         0\n",
       "book_details       0\n",
       "cover_image_uri    0\n",
       "author             0\n",
       "genres             0\n",
       "dtype: int64"
      ]
     },
     "execution_count": 96,
     "metadata": {},
     "output_type": "execute_result"
    }
   ],
   "source": [
    "data.isnull().sum()"
   ]
  },
  {
   "cell_type": "code",
   "execution_count": 97,
   "metadata": {},
   "outputs": [
    {
     "data": {
      "text/plain": [
       "16177"
      ]
     },
     "execution_count": 97,
     "metadata": {},
     "output_type": "execute_result"
    }
   ],
   "source": [
    "len(data)"
   ]
  },
  {
   "cell_type": "markdown",
   "metadata": {},
   "source": [
    "### UNIFYING GENRES"
   ]
  },
  {
   "cell_type": "code",
   "execution_count": 98,
   "metadata": {},
   "outputs": [
    {
     "data": {
      "text/plain": [
       "genres\n",
       "[]                                                                                                                   303\n",
       "['Fiction']                                                                                                           38\n",
       "['Poetry']                                                                                                            24\n",
       "['Fantasy']                                                                                                           21\n",
       "['Mystery', 'Fiction', 'Crime', 'Classics', 'Mystery Thriller', 'Detective', 'Audiobook']                             17\n",
       "                                                                                                                    ... \n",
       "['History', 'Nonfiction', 'Civil War', 'American History', 'Biography', 'African American', 'American Civil War']      1\n",
       "['Classics', 'Fiction', 'India', 'Historical Fiction', 'Adventure', 'Literature', 'Novels']                            1\n",
       "['Christian', 'Religion', 'Theology', 'Cults', 'Nonfiction', 'Christianity', 'Reference']                              1\n",
       "['Historical Romance', 'Romance', 'Historical', 'Scotland', 'Historical Fiction', 'Paranormal']                        1\n",
       "['Drama', 'Novels', 'Crime', 'Thriller', 'Suspense']                                                                   1\n",
       "Name: count, Length: 13757, dtype: int64"
      ]
     },
     "execution_count": 98,
     "metadata": {},
     "output_type": "execute_result"
    }
   ],
   "source": [
    "data['genres'].value_counts()"
   ]
  },
  {
   "cell_type": "code",
   "execution_count": 99,
   "metadata": {},
   "outputs": [
    {
     "name": "stdout",
     "output_type": "stream",
     "text": [
      "sci fi 1\n",
      "science fiction 2128\n",
      "sci-fi 0\n",
      "self 455\n",
      "help 455\n",
      "self help 455\n",
      "self-help 0\n"
     ]
    }
   ],
   "source": [
    "for sci in ['sci fi', 'science fiction', 'sci-fi', 'self', 'help', 'self help', 'self-help']:\n",
    "    print(sci, data['genres'].str.contains(sci, case=False, na=False).sum())"
   ]
  },
  {
   "cell_type": "code",
   "execution_count": 100,
   "metadata": {},
   "outputs": [],
   "source": [
    "def map_genre(genre):\n",
    "    genre = genre.lower()\n",
    "    if re.search(r'adventure|action', genre):\n",
    "        return 'Adventure'\n",
    "    if re.search(r'sci[-\\s]?fi|science\\sfiction', genre):\n",
    "        return 'Sci Fi'\n",
    "    elif re.search(r'horror', genre):\n",
    "        return 'Horror'\n",
    "    elif re.search(r'fantasy', genre):\n",
    "        return 'Fantasy'\n",
    "    elif re.search(r'crime|mystery', genre):\n",
    "        return 'Crime'\n",
    "    elif re.search(r'comics', genre):\n",
    "        return 'Comics'\n",
    "    elif re.search(r'education', genre):\n",
    "        return 'Education'\n",
    "    elif re.search(r'manga', genre):\n",
    "        return 'Manga'\n",
    "    elif re.search(r'romance', genre):\n",
    "        return 'Romance'\n",
    "    elif re.search(r'self[-\\s]?help', genre):\n",
    "        return 'Self-Help'\n",
    "    else:\n",
    "        return 'Other'"
   ]
  },
  {
   "cell_type": "code",
   "execution_count": 101,
   "metadata": {},
   "outputs": [
    {
     "name": "stderr",
     "output_type": "stream",
     "text": [
      "C:\\Users\\Katie\\AppData\\Local\\Temp\\ipykernel_22352\\750902993.py:1: SettingWithCopyWarning: \n",
      "A value is trying to be set on a copy of a slice from a DataFrame.\n",
      "Try using .loc[row_indexer,col_indexer] = value instead\n",
      "\n",
      "See the caveats in the documentation: https://pandas.pydata.org/pandas-docs/stable/user_guide/indexing.html#returning-a-view-versus-a-copy\n",
      "  data['genres'] = data['genres'].apply(map_genre)\n"
     ]
    }
   ],
   "source": [
    "data['genres'] = data['genres'].apply(map_genre)"
   ]
  },
  {
   "cell_type": "code",
   "execution_count": 102,
   "metadata": {},
   "outputs": [
    {
     "data": {
      "text/plain": [
       "genres\n",
       "Other        5585\n",
       "Fantasy      2266\n",
       "Sci Fi       1723\n",
       "Romance      1681\n",
       "Crime        1645\n",
       "Adventure    1628\n",
       "Horror       1017\n",
       "Self-Help     416\n",
       "Comics        132\n",
       "Education      76\n",
       "Manga           8\n",
       "Name: count, dtype: int64"
      ]
     },
     "execution_count": 102,
     "metadata": {},
     "output_type": "execute_result"
    }
   ],
   "source": [
    "data['genres'].value_counts()"
   ]
  },
  {
   "cell_type": "code",
   "execution_count": 103,
   "metadata": {},
   "outputs": [],
   "source": [
    "# Drop columns of other genres\n",
    "data = data[data['genres'] != 'Other']"
   ]
  },
  {
   "cell_type": "code",
   "execution_count": 104,
   "metadata": {},
   "outputs": [
    {
     "data": {
      "image/png": "[encoded data removed]",
      "text/plain": [
       "<Figure size 2000x500 with 1 Axes>"
      ]
     },
     "metadata": {},
     "output_type": "display_data"
    }
   ],
   "source": [
    "ax, fig = plt.subplots(figsize=(20,5))\n",
    "fig.bar(data['genres'].unique(), data['genres'].value_counts())\n",
    "plt.show()"
   ]
  },
  {
   "cell_type": "markdown",
   "metadata": {},
   "source": [
    "### BALANCING GENRES"
   ]
  },
  {
   "cell_type": "code",
   "execution_count": 105,
   "metadata": {},
   "outputs": [],
   "source": [
    "category = list(data['genres'].unique())"
   ]
  },
  {
   "cell_type": "code",
   "execution_count": 112,
   "metadata": {},
   "outputs": [
    {
     "name": "stdout",
     "output_type": "stream",
     "text": [
      "Adventure category is starting...\n",
      "200 books of Adventure has been added\n",
      "Fantasy category is starting...\n",
      "200 books of Fantasy has been added\n",
      "Sci Fi category is starting...\n",
      "200 books of Sci Fi has been added\n",
      "Romance category is starting...\n",
      "200 books of Romance has been added\n",
      "Horror category is starting...\n",
      "200 books of Horror has been added\n",
      "Crime category is starting...\n",
      "200 books of Crime has been added\n",
      "Self-Help category is starting...\n",
      "200 books of Self-Help has been added\n",
      "Education category is starting...\n",
      "76 books of Education has been added\n",
      "Comics category is starting...\n",
      "132 books of Comics has been added\n",
      "Manga category is starting...\n",
      "8 books of Manga has been added\n"
     ]
    }
   ],
   "source": [
    "min_count = 200\n",
    "\n",
    "balanced_df = pd.DataFrame(columns=data.columns)\n",
    "for c in category:\n",
    "    print(f'{c} category is starting...')\n",
    "    count = 0\n",
    "    for _,book in data.iterrows():\n",
    "        if count < min_count:\n",
    "            if book['genres'] in c:\n",
    "                #print(book)\n",
    "                balanced_df = pd.concat([balanced_df, book.to_frame().T])\n",
    "                count += 1\n",
    "        else: \n",
    "           # print(f'{count} rows of {category} has been added')\n",
    "            break\n",
    "    print(f'{count} books of {c} has been added')"
   ]
  },
  {
   "cell_type": "code",
   "execution_count": 65,
   "metadata": {},
   "outputs": [
    {
     "data": {
      "text/plain": [
       "genres\n",
       "Adventure    200\n",
       "Fantasy      200\n",
       "Sci Fi       200\n",
       "Romance      200\n",
       "Horror       200\n",
       "Crime        200\n",
       "Self-Help    200\n",
       "Comics       132\n",
       "Education     76\n",
       "Manga          8\n",
       "Name: count, dtype: int64"
      ]
     },
     "execution_count": 65,
     "metadata": {},
     "output_type": "execute_result"
    }
   ],
   "source": [
    "balanced_df['genres'].value_counts()"
   ]
  },
  {
   "cell_type": "code",
   "execution_count": 107,
   "metadata": {},
   "outputs": [
    {
     "data": {
      "image/png": "[encoded data removed]",
      "text/plain": [
       "<Figure size 2000x500 with 1 Axes>"
      ]
     },
     "metadata": {},
     "output_type": "display_data"
    }
   ],
   "source": [
    "ax, fig = plt.subplots(figsize=(20,5))\n",
    "fig.bar(balanced_df['genres'].unique(), balanced_df['genres'].value_counts())\n",
    "plt.show()"
   ]
  },
  {
   "cell_type": "markdown",
   "metadata": {},
   "source": [
    "### REMOVING NOT ENGLISH BOOKS"
   ]
  },
  {
   "cell_type": "code",
   "execution_count": 67,
   "metadata": {},
   "outputs": [],
   "source": [
    "DetectorFactory.seed = 0"
   ]
  },
  {
   "cell_type": "code",
   "execution_count": 118,
   "metadata": {},
   "outputs": [],
   "source": [
    "def is_english(row):\n",
    "    if row['genres'] != 'Manga':\n",
    "        try:\n",
    "            return detect(row['book_title']) == 'en'\n",
    "        except:\n",
    "            return False\n",
    "    else:\n",
    "        return True"
   ]
  },
  {
   "cell_type": "code",
   "execution_count": 120,
   "metadata": {},
   "outputs": [],
   "source": [
    "balanced_df = balanced_df[balanced_df.apply(is_english, axis=1)]"
   ]
  },
  {
   "cell_type": "code",
   "execution_count": 121,
   "metadata": {},
   "outputs": [
    {
     "data": {
      "text/plain": [
       "genres\n",
       "Self-Help    192\n",
       "Crime        161\n",
       "Adventure    157\n",
       "Fantasy      157\n",
       "Sci Fi       153\n",
       "Romance      145\n",
       "Horror       137\n",
       "Comics        93\n",
       "Education     74\n",
       "Manga          8\n",
       "Name: count, dtype: int64"
      ]
     },
     "execution_count": 121,
     "metadata": {},
     "output_type": "execute_result"
    }
   ],
   "source": [
    "balanced_df['genres'].value_counts()"
   ]
  },
  {
   "cell_type": "markdown",
   "metadata": {},
   "source": [
    "### FIXING AUTHORS FORMAT"
   ]
  },
  {
   "cell_type": "code",
   "execution_count": 122,
   "metadata": {},
   "outputs": [],
   "source": [
    "def format_authors(authors):\n",
    "\n",
    "    authors_list = [author.strip() for author in authors.split(',')]\n",
    "    formatted_authors = ', '.join(authors_list)\n",
    "    if len(authors_list) > 2:\n",
    "        formatted_authors = ', '.join(authors_list[:2]) + ', et al.'\n",
    "    \n",
    "    return formatted_authors"
   ]
  },
  {
   "cell_type": "code",
   "execution_count": 123,
   "metadata": {},
   "outputs": [
    {
     "name": "stderr",
     "output_type": "stream",
     "text": [
      "C:\\Users\\Katie\\AppData\\Local\\Temp\\ipykernel_22352\\2855808576.py:1: SettingWithCopyWarning: \n",
      "A value is trying to be set on a copy of a slice from a DataFrame.\n",
      "Try using .loc[row_indexer,col_indexer] = value instead\n",
      "\n",
      "See the caveats in the documentation: https://pandas.pydata.org/pandas-docs/stable/user_guide/indexing.html#returning-a-view-versus-a-copy\n",
      "  balanced_df['author'] = balanced_df['author'].apply(format_authors)\n"
     ]
    }
   ],
   "source": [
    "balanced_df['author'] = balanced_df['author'].apply(format_authors)"
   ]
  },
  {
   "cell_type": "code",
   "execution_count": 124,
   "metadata": {},
   "outputs": [
    {
     "data": {
      "text/html": [
       "<div>\n",
       "<style scoped>\n",
       "    .dataframe tbody tr th:only-of-type {\n",
       "        vertical-align: middle;\n",
       "    }\n",
       "\n",
       "    .dataframe tbody tr th {\n",
       "        vertical-align: top;\n",
       "    }\n",
       "\n",
       "    .dataframe thead th {\n",
       "        text-align: right;\n",
       "    }\n",
       "</style>\n",
       "<table border=\"1\" class=\"dataframe\">\n",
       "  <thead>\n",
       "    <tr style=\"text-align: right;\">\n",
       "      <th></th>\n",
       "      <th>book_title</th>\n",
       "      <th>book_details</th>\n",
       "      <th>cover_image_uri</th>\n",
       "      <th>author</th>\n",
       "      <th>genres</th>\n",
       "    </tr>\n",
       "  </thead>\n",
       "  <tbody>\n",
       "    <tr>\n",
       "      <th>0</th>\n",
       "      <td>Harry Potter and the Half-Blood Prince</td>\n",
       "      <td>It is the middle of the summer, but there is a...</td>\n",
       "      <td>https://images-na.ssl-images-amazon.com/images...</td>\n",
       "      <td>J.K. Rowling</td>\n",
       "      <td>Adventure</td>\n",
       "    </tr>\n",
       "    <tr>\n",
       "      <th>1</th>\n",
       "      <td>Harry Potter and the Order of the Phoenix</td>\n",
       "      <td>Harry Potter is about to start his fifth year ...</td>\n",
       "      <td>https://images-na.ssl-images-amazon.com/images...</td>\n",
       "      <td>J.K. Rowling</td>\n",
       "      <td>Adventure</td>\n",
       "    </tr>\n",
       "    <tr>\n",
       "      <th>5</th>\n",
       "      <td>Harry Potter Boxed Set, Books 1-5</td>\n",
       "      <td>Box Set containing Harry Potter and the Sorcer...</td>\n",
       "      <td>https://images-na.ssl-images-amazon.com/images...</td>\n",
       "      <td>J.K. Rowling</td>\n",
       "      <td>Adventure</td>\n",
       "    </tr>\n",
       "    <tr>\n",
       "      <th>6</th>\n",
       "      <td>Harry Potter Collection</td>\n",
       "      <td>Six years of magic, adventure, and mystery mak...</td>\n",
       "      <td>https://images-na.ssl-images-amazon.com/images...</td>\n",
       "      <td>J.K. Rowling</td>\n",
       "      <td>Adventure</td>\n",
       "    </tr>\n",
       "    <tr>\n",
       "      <th>16</th>\n",
       "      <td>J.R.R. Tolkien 4-Book Boxed Set: The Hobbit an...</td>\n",
       "      <td>This four-volume, boxed set contains J.R.R. To...</td>\n",
       "      <td>https://images-na.ssl-images-amazon.com/images...</td>\n",
       "      <td>J.R.R. Tolkien</td>\n",
       "      <td>Adventure</td>\n",
       "    </tr>\n",
       "  </tbody>\n",
       "</table>\n",
       "</div>"
      ],
      "text/plain": [
       "                                           book_title  \\\n",
       "0              Harry Potter and the Half-Blood Prince   \n",
       "1           Harry Potter and the Order of the Phoenix   \n",
       "5                   Harry Potter Boxed Set, Books 1-5   \n",
       "6                             Harry Potter Collection   \n",
       "16  J.R.R. Tolkien 4-Book Boxed Set: The Hobbit an...   \n",
       "\n",
       "                                         book_details  \\\n",
       "0   It is the middle of the summer, but there is a...   \n",
       "1   Harry Potter is about to start his fifth year ...   \n",
       "5   Box Set containing Harry Potter and the Sorcer...   \n",
       "6   Six years of magic, adventure, and mystery mak...   \n",
       "16  This four-volume, boxed set contains J.R.R. To...   \n",
       "\n",
       "                                      cover_image_uri          author  \\\n",
       "0   https://images-na.ssl-images-amazon.com/images...    J.K. Rowling   \n",
       "1   https://images-na.ssl-images-amazon.com/images...    J.K. Rowling   \n",
       "5   https://images-na.ssl-images-amazon.com/images...    J.K. Rowling   \n",
       "6   https://images-na.ssl-images-amazon.com/images...    J.K. Rowling   \n",
       "16  https://images-na.ssl-images-amazon.com/images...  J.R.R. Tolkien   \n",
       "\n",
       "       genres  \n",
       "0   Adventure  \n",
       "1   Adventure  \n",
       "5   Adventure  \n",
       "6   Adventure  \n",
       "16  Adventure  "
      ]
     },
     "execution_count": 124,
     "metadata": {},
     "output_type": "execute_result"
    }
   ],
   "source": [
    "balanced_df.head()"
   ]
  },
  {
   "cell_type": "markdown",
   "metadata": {},
   "source": [
    "### ADDING QTY AND PRICE COLUMNS"
   ]
  },
  {
   "cell_type": "code",
   "execution_count": 130,
   "metadata": {},
   "outputs": [
    {
     "name": "stderr",
     "output_type": "stream",
     "text": [
      "C:\\Users\\Katie\\AppData\\Local\\Temp\\ipykernel_22352\\3697094916.py:1: SettingWithCopyWarning: \n",
      "A value is trying to be set on a copy of a slice from a DataFrame\n",
      "\n",
      "See the caveats in the documentation: https://pandas.pydata.org/pandas-docs/stable/user_guide/indexing.html#returning-a-view-versus-a-copy\n",
      "  balanced_df.rename(columns={'cover_image_uri': 'image', 'book_title': 'name', 'book_details': 'description',  'genres':'category'}, inplace=True)\n"
     ]
    },
    {
     "data": {
      "text/html": [
       "<div>\n",
       "<style scoped>\n",
       "    .dataframe tbody tr th:only-of-type {\n",
       "        vertical-align: middle;\n",
       "    }\n",
       "\n",
       "    .dataframe tbody tr th {\n",
       "        vertical-align: top;\n",
       "    }\n",
       "\n",
       "    .dataframe thead th {\n",
       "        text-align: right;\n",
       "    }\n",
       "</style>\n",
       "<table border=\"1\" class=\"dataframe\">\n",
       "  <thead>\n",
       "    <tr style=\"text-align: right;\">\n",
       "      <th></th>\n",
       "      <th>name</th>\n",
       "      <th>description</th>\n",
       "      <th>image</th>\n",
       "      <th>price</th>\n",
       "      <th>author</th>\n",
       "      <th>qty</th>\n",
       "      <th>category</th>\n",
       "    </tr>\n",
       "  </thead>\n",
       "  <tbody>\n",
       "    <tr>\n",
       "      <th>0</th>\n",
       "      <td>Harry Potter and the Half-Blood Prince</td>\n",
       "      <td>It is the middle of the summer, but there is a...</td>\n",
       "      <td>https://images-na.ssl-images-amazon.com/images...</td>\n",
       "      <td>365.0</td>\n",
       "      <td>J.K. Rowling</td>\n",
       "      <td>45</td>\n",
       "      <td>Adventure</td>\n",
       "    </tr>\n",
       "    <tr>\n",
       "      <th>1</th>\n",
       "      <td>Harry Potter and the Order of the Phoenix</td>\n",
       "      <td>Harry Potter is about to start his fifth year ...</td>\n",
       "      <td>https://images-na.ssl-images-amazon.com/images...</td>\n",
       "      <td>842.0</td>\n",
       "      <td>J.K. Rowling</td>\n",
       "      <td>31</td>\n",
       "      <td>Adventure</td>\n",
       "    </tr>\n",
       "    <tr>\n",
       "      <th>5</th>\n",
       "      <td>Harry Potter Boxed Set, Books 1-5</td>\n",
       "      <td>Box Set containing Harry Potter and the Sorcer...</td>\n",
       "      <td>https://images-na.ssl-images-amazon.com/images...</td>\n",
       "      <td>661.0</td>\n",
       "      <td>J.K. Rowling</td>\n",
       "      <td>78</td>\n",
       "      <td>Adventure</td>\n",
       "    </tr>\n",
       "    <tr>\n",
       "      <th>6</th>\n",
       "      <td>Harry Potter Collection</td>\n",
       "      <td>Six years of magic, adventure, and mystery mak...</td>\n",
       "      <td>https://images-na.ssl-images-amazon.com/images...</td>\n",
       "      <td>550.0</td>\n",
       "      <td>J.K. Rowling</td>\n",
       "      <td>79</td>\n",
       "      <td>Adventure</td>\n",
       "    </tr>\n",
       "    <tr>\n",
       "      <th>16</th>\n",
       "      <td>J.R.R. Tolkien 4-Book Boxed Set: The Hobbit an...</td>\n",
       "      <td>This four-volume, boxed set contains J.R.R. To...</td>\n",
       "      <td>https://images-na.ssl-images-amazon.com/images...</td>\n",
       "      <td>184.0</td>\n",
       "      <td>J.R.R. Tolkien</td>\n",
       "      <td>53</td>\n",
       "      <td>Adventure</td>\n",
       "    </tr>\n",
       "  </tbody>\n",
       "</table>\n",
       "</div>"
      ],
      "text/plain": [
       "                                                 name  \\\n",
       "0              Harry Potter and the Half-Blood Prince   \n",
       "1           Harry Potter and the Order of the Phoenix   \n",
       "5                   Harry Potter Boxed Set, Books 1-5   \n",
       "6                             Harry Potter Collection   \n",
       "16  J.R.R. Tolkien 4-Book Boxed Set: The Hobbit an...   \n",
       "\n",
       "                                          description  \\\n",
       "0   It is the middle of the summer, but there is a...   \n",
       "1   Harry Potter is about to start his fifth year ...   \n",
       "5   Box Set containing Harry Potter and the Sorcer...   \n",
       "6   Six years of magic, adventure, and mystery mak...   \n",
       "16  This four-volume, boxed set contains J.R.R. To...   \n",
       "\n",
       "                                                image  price          author  \\\n",
       "0   https://images-na.ssl-images-amazon.com/images...  365.0    J.K. Rowling   \n",
       "1   https://images-na.ssl-images-amazon.com/images...  842.0    J.K. Rowling   \n",
       "5   https://images-na.ssl-images-amazon.com/images...  661.0    J.K. Rowling   \n",
       "6   https://images-na.ssl-images-amazon.com/images...  550.0    J.K. Rowling   \n",
       "16  https://images-na.ssl-images-amazon.com/images...  184.0  J.R.R. Tolkien   \n",
       "\n",
       "    qty   category  \n",
       "0    45  Adventure  \n",
       "1    31  Adventure  \n",
       "5    78  Adventure  \n",
       "6    79  Adventure  \n",
       "16   53  Adventure  "
      ]
     },
     "execution_count": 130,
     "metadata": {},
     "output_type": "execute_result"
    }
   ],
   "source": [
    "balanced_df.rename(columns={'cover_image_uri': 'image', 'book_title': 'name', 'book_details': 'description',  'genres':'category'}, inplace=True)\n",
    "balanced_df.head()"
   ]
  },
  {
   "cell_type": "code",
   "execution_count": 126,
   "metadata": {},
   "outputs": [
    {
     "data": {
      "text/plain": [
       "[365.0, 842.0, 661.0, 550.0, 184.0]"
      ]
     },
     "execution_count": 126,
     "metadata": {},
     "output_type": "execute_result"
    }
   ],
   "source": [
    "import numpy as np\n",
    "np.random.seed(42)\n",
    "price = np.random.uniform(low=55.4, high=882.3, size=(len(balanced_df),))\n",
    "price = [round(p,0) for p in price]\n",
    "price[:5]"
   ]
  },
  {
   "cell_type": "code",
   "execution_count": 127,
   "metadata": {},
   "outputs": [
    {
     "data": {
      "text/plain": [
       "[45, 31, 78, 79, 53]"
      ]
     },
     "execution_count": 127,
     "metadata": {},
     "output_type": "execute_result"
    }
   ],
   "source": [
    "qty = list(np.random.randint(low=0, high=100, size=len(balanced_df), dtype=int))\n",
    "qty[:5]"
   ]
  },
  {
   "cell_type": "code",
   "execution_count": 128,
   "metadata": {},
   "outputs": [
    {
     "data": {
      "text/html": [
       "<div>\n",
       "<style scoped>\n",
       "    .dataframe tbody tr th:only-of-type {\n",
       "        vertical-align: middle;\n",
       "    }\n",
       "\n",
       "    .dataframe tbody tr th {\n",
       "        vertical-align: top;\n",
       "    }\n",
       "\n",
       "    .dataframe thead th {\n",
       "        text-align: right;\n",
       "    }\n",
       "</style>\n",
       "<table border=\"1\" class=\"dataframe\">\n",
       "  <thead>\n",
       "    <tr style=\"text-align: right;\">\n",
       "      <th></th>\n",
       "      <th>name</th>\n",
       "      <th>book_details</th>\n",
       "      <th>image</th>\n",
       "      <th>price</th>\n",
       "      <th>author</th>\n",
       "      <th>qty</th>\n",
       "      <th>category</th>\n",
       "    </tr>\n",
       "  </thead>\n",
       "  <tbody>\n",
       "    <tr>\n",
       "      <th>0</th>\n",
       "      <td>Harry Potter and the Half-Blood Prince</td>\n",
       "      <td>It is the middle of the summer, but there is a...</td>\n",
       "      <td>https://images-na.ssl-images-amazon.com/images...</td>\n",
       "      <td>365.0</td>\n",
       "      <td>J.K. Rowling</td>\n",
       "      <td>45</td>\n",
       "      <td>Adventure</td>\n",
       "    </tr>\n",
       "    <tr>\n",
       "      <th>1</th>\n",
       "      <td>Harry Potter and the Order of the Phoenix</td>\n",
       "      <td>Harry Potter is about to start his fifth year ...</td>\n",
       "      <td>https://images-na.ssl-images-amazon.com/images...</td>\n",
       "      <td>842.0</td>\n",
       "      <td>J.K. Rowling</td>\n",
       "      <td>31</td>\n",
       "      <td>Adventure</td>\n",
       "    </tr>\n",
       "    <tr>\n",
       "      <th>5</th>\n",
       "      <td>Harry Potter Boxed Set, Books 1-5</td>\n",
       "      <td>Box Set containing Harry Potter and the Sorcer...</td>\n",
       "      <td>https://images-na.ssl-images-amazon.com/images...</td>\n",
       "      <td>661.0</td>\n",
       "      <td>J.K. Rowling</td>\n",
       "      <td>78</td>\n",
       "      <td>Adventure</td>\n",
       "    </tr>\n",
       "    <tr>\n",
       "      <th>6</th>\n",
       "      <td>Harry Potter Collection</td>\n",
       "      <td>Six years of magic, adventure, and mystery mak...</td>\n",
       "      <td>https://images-na.ssl-images-amazon.com/images...</td>\n",
       "      <td>550.0</td>\n",
       "      <td>J.K. Rowling</td>\n",
       "      <td>79</td>\n",
       "      <td>Adventure</td>\n",
       "    </tr>\n",
       "    <tr>\n",
       "      <th>16</th>\n",
       "      <td>J.R.R. Tolkien 4-Book Boxed Set: The Hobbit an...</td>\n",
       "      <td>This four-volume, boxed set contains J.R.R. To...</td>\n",
       "      <td>https://images-na.ssl-images-amazon.com/images...</td>\n",
       "      <td>184.0</td>\n",
       "      <td>J.R.R. Tolkien</td>\n",
       "      <td>53</td>\n",
       "      <td>Adventure</td>\n",
       "    </tr>\n",
       "  </tbody>\n",
       "</table>\n",
       "</div>"
      ],
      "text/plain": [
       "                                                 name  \\\n",
       "0              Harry Potter and the Half-Blood Prince   \n",
       "1           Harry Potter and the Order of the Phoenix   \n",
       "5                   Harry Potter Boxed Set, Books 1-5   \n",
       "6                             Harry Potter Collection   \n",
       "16  J.R.R. Tolkien 4-Book Boxed Set: The Hobbit an...   \n",
       "\n",
       "                                         book_details  \\\n",
       "0   It is the middle of the summer, but there is a...   \n",
       "1   Harry Potter is about to start his fifth year ...   \n",
       "5   Box Set containing Harry Potter and the Sorcer...   \n",
       "6   Six years of magic, adventure, and mystery mak...   \n",
       "16  This four-volume, boxed set contains J.R.R. To...   \n",
       "\n",
       "                                                image  price          author  \\\n",
       "0   https://images-na.ssl-images-amazon.com/images...  365.0    J.K. Rowling   \n",
       "1   https://images-na.ssl-images-amazon.com/images...  842.0    J.K. Rowling   \n",
       "5   https://images-na.ssl-images-amazon.com/images...  661.0    J.K. Rowling   \n",
       "6   https://images-na.ssl-images-amazon.com/images...  550.0    J.K. Rowling   \n",
       "16  https://images-na.ssl-images-amazon.com/images...  184.0  J.R.R. Tolkien   \n",
       "\n",
       "    qty   category  \n",
       "0    45  Adventure  \n",
       "1    31  Adventure  \n",
       "5    78  Adventure  \n",
       "6    79  Adventure  \n",
       "16   53  Adventure  "
      ]
     },
     "execution_count": 128,
     "metadata": {},
     "output_type": "execute_result"
    }
   ],
   "source": [
    "balanced_df.insert(3, 'price', price)\n",
    "balanced_df.insert(5, 'qty', qty)\n",
    "balanced_df.head()"
   ]
  },
  {
   "cell_type": "markdown",
   "metadata": {},
   "source": [
    "## EXPORT  DATA"
   ]
  },
  {
   "cell_type": "code",
   "execution_count": 131,
   "metadata": {},
   "outputs": [],
   "source": [
    "import json\n",
    "with open('output.txt', 'w') as file:\n",
    "    json.dump(balanced_df.to_dict('records'), file, indent=4)\n"
   ]
  }
 ],
 "metadata": {
  "kernelspec": {
   "display_name": "cnn",
   "language": "python",
   "name": "python3"
  },
  "language_info": {
   "codemirror_mode": {
    "name": "ipython",
    "version": 3
   },
   "file_extension": ".py",
   "mimetype": "text/x-python",
   "name": "python",
   "nbconvert_exporter": "python",
   "pygments_lexer": "ipython3",
   "version": "3.9.13"
  }
 },
 "nbformat": 4,
 "nbformat_minor": 2
}
